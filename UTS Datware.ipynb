{
 "cells": [
  {
   "cell_type": "markdown",
   "id": "0a225b53",
   "metadata": {},
   "source": [
    "# Ujian Tengah Semester Data Warehouse\n",
    "\n",
    "##### Anggota Kelompok\n",
    "1. Aliya Rahmania - 140810210005\n",
    "2. Adinda Salsabila - 140810210017\n",
    "3. Aliya Sania - 140810210035\n",
    "4. Sarah Khairunnisa Prihantoro - 140810210063"
   ]
  },
  {
   "cell_type": "markdown",
   "id": "36dc70e6",
   "metadata": {},
   "source": [
    "## Import Library yang Digunakan"
   ]
  },
  {
   "cell_type": "code",
   "execution_count": 14,
   "id": "3fb2025a",
   "metadata": {},
   "outputs": [],
   "source": [
    "#Input semua library yang dibutuhkan\n",
    "import pandas as pd"
   ]
  },
  {
   "cell_type": "markdown",
   "id": "fd71f529",
   "metadata": {},
   "source": [
    "## Gathering Data"
   ]
  },
  {
   "cell_type": "code",
   "execution_count": 3,
   "id": "f6184494",
   "metadata": {},
   "outputs": [
    {
     "data": {
      "text/html": [
       "<div>\n",
       "<style scoped>\n",
       "    .dataframe tbody tr th:only-of-type {\n",
       "        vertical-align: middle;\n",
       "    }\n",
       "\n",
       "    .dataframe tbody tr th {\n",
       "        vertical-align: top;\n",
       "    }\n",
       "\n",
       "    .dataframe thead th {\n",
       "        text-align: right;\n",
       "    }\n",
       "</style>\n",
       "<table border=\"1\" class=\"dataframe\">\n",
       "  <thead>\n",
       "    <tr style=\"text-align: right;\">\n",
       "      <th></th>\n",
       "      <th>id_karyawan</th>\n",
       "      <th>nama_karyawan</th>\n",
       "      <th>div_karyawan</th>\n",
       "    </tr>\n",
       "  </thead>\n",
       "  <tbody>\n",
       "    <tr>\n",
       "      <th>0</th>\n",
       "      <td>DK-199</td>\n",
       "      <td>Tari Puspasari</td>\n",
       "      <td>Finance</td>\n",
       "    </tr>\n",
       "    <tr>\n",
       "      <th>1</th>\n",
       "      <td>DK-148</td>\n",
       "      <td>Saka Wastuti</td>\n",
       "      <td>Sales</td>\n",
       "    </tr>\n",
       "    <tr>\n",
       "      <th>2</th>\n",
       "      <td>DK-94</td>\n",
       "      <td>Ir. Radit Megantara, M.Farm</td>\n",
       "      <td>HR</td>\n",
       "    </tr>\n",
       "    <tr>\n",
       "      <th>3</th>\n",
       "      <td>DK-56</td>\n",
       "      <td>Ade Hutapea</td>\n",
       "      <td>HR</td>\n",
       "    </tr>\n",
       "    <tr>\n",
       "      <th>4</th>\n",
       "      <td>DK-4</td>\n",
       "      <td>Utama Pranowo, M.Farm</td>\n",
       "      <td>HR</td>\n",
       "    </tr>\n",
       "  </tbody>\n",
       "</table>\n",
       "</div>"
      ],
      "text/plain": [
       "  id_karyawan                nama_karyawan div_karyawan\n",
       "0      DK-199               Tari Puspasari      Finance\n",
       "1      DK-148                 Saka Wastuti        Sales\n",
       "2       DK-94  Ir. Radit Megantara, M.Farm           HR\n",
       "3       DK-56                  Ade Hutapea           HR\n",
       "4        DK-4        Utama Pranowo, M.Farm           HR"
      ]
     },
     "execution_count": 3,
     "metadata": {},
     "output_type": "execute_result"
    }
   ],
   "source": [
    "#Read dataset Karyawan_Dankos.csv\n",
    "table_karyawan_d_df = pd.read_csv('https://raw.githubusercontent.com/adindaaasals/Data_Warehouse/main/Karyawan_Dankos.csv')\n",
    "table_karyawan_d_df.head()"
   ]
  },
  {
   "cell_type": "code",
   "execution_count": 4,
   "id": "4e7ae3dc",
   "metadata": {},
   "outputs": [
    {
     "data": {
      "text/html": [
       "<div>\n",
       "<style scoped>\n",
       "    .dataframe tbody tr th:only-of-type {\n",
       "        vertical-align: middle;\n",
       "    }\n",
       "\n",
       "    .dataframe tbody tr th {\n",
       "        vertical-align: top;\n",
       "    }\n",
       "\n",
       "    .dataframe thead th {\n",
       "        text-align: right;\n",
       "    }\n",
       "</style>\n",
       "<table border=\"1\" class=\"dataframe\">\n",
       "  <thead>\n",
       "    <tr style=\"text-align: right;\">\n",
       "      <th></th>\n",
       "      <th>id_karyawan</th>\n",
       "      <th>nama_karyawan</th>\n",
       "      <th>div_karyawan</th>\n",
       "    </tr>\n",
       "  </thead>\n",
       "  <tbody>\n",
       "    <tr>\n",
       "      <th>0</th>\n",
       "      <td>EK-3</td>\n",
       "      <td>Manah Utami</td>\n",
       "      <td>Operations</td>\n",
       "    </tr>\n",
       "    <tr>\n",
       "      <th>1</th>\n",
       "      <td>EK-2</td>\n",
       "      <td>Ilsa Mardhiyah, S.Farm</td>\n",
       "      <td>HR</td>\n",
       "    </tr>\n",
       "    <tr>\n",
       "      <th>2</th>\n",
       "      <td>EK-17</td>\n",
       "      <td>Darsirah Tampubolon</td>\n",
       "      <td>Operations</td>\n",
       "    </tr>\n",
       "    <tr>\n",
       "      <th>3</th>\n",
       "      <td>EK-197</td>\n",
       "      <td>Ismail Wijayanti</td>\n",
       "      <td>IT</td>\n",
       "    </tr>\n",
       "    <tr>\n",
       "      <th>4</th>\n",
       "      <td>EK-143</td>\n",
       "      <td>Usyi Hasanah</td>\n",
       "      <td>Research</td>\n",
       "    </tr>\n",
       "  </tbody>\n",
       "</table>\n",
       "</div>"
      ],
      "text/plain": [
       "  id_karyawan           nama_karyawan div_karyawan\n",
       "0        EK-3             Manah Utami   Operations\n",
       "1        EK-2  Ilsa Mardhiyah, S.Farm           HR\n",
       "2       EK-17     Darsirah Tampubolon   Operations\n",
       "3      EK-197        Ismail Wijayanti           IT\n",
       "4      EK-143            Usyi Hasanah     Research"
      ]
     },
     "execution_count": 4,
     "metadata": {},
     "output_type": "execute_result"
    }
   ],
   "source": [
    "#Read dataset Karyawan_Enseva.csv\n",
    "table_karyawan_e_df = pd.read_csv('https://raw.githubusercontent.com/adindaaasals/Data_Warehouse/main/Karyawan_Enseva.csv')\n",
    "table_karyawan_e_df.head()"
   ]
  },
  {
   "cell_type": "code",
   "execution_count": 8,
   "id": "f07f51f4",
   "metadata": {},
   "outputs": [
    {
     "data": {
      "text/html": [
       "<div>\n",
       "<style scoped>\n",
       "    .dataframe tbody tr th:only-of-type {\n",
       "        vertical-align: middle;\n",
       "    }\n",
       "\n",
       "    .dataframe tbody tr th {\n",
       "        vertical-align: top;\n",
       "    }\n",
       "\n",
       "    .dataframe thead th {\n",
       "        text-align: right;\n",
       "    }\n",
       "</style>\n",
       "<table border=\"1\" class=\"dataframe\">\n",
       "  <thead>\n",
       "    <tr style=\"text-align: right;\">\n",
       "      <th></th>\n",
       "      <th>ID_Produk</th>\n",
       "      <th>Nama_Produk</th>\n",
       "      <th>Kategori_Produk</th>\n",
       "      <th>Harga_Satuan</th>\n",
       "      <th>Stok_Produk</th>\n",
       "      <th>ID_Pemasok</th>\n",
       "      <th>ID_Pesanan_Pembelian</th>\n",
       "      <th>ID_Pesanan_Penjualan</th>\n",
       "    </tr>\n",
       "  </thead>\n",
       "  <tbody>\n",
       "    <tr>\n",
       "      <th>0</th>\n",
       "      <td>DK1</td>\n",
       "      <td>Stetoskop</td>\n",
       "      <td>Medical Device</td>\n",
       "      <td>40150000</td>\n",
       "      <td>471</td>\n",
       "      <td>DKS127</td>\n",
       "      <td>DKPO1012</td>\n",
       "      <td>DKSO2026</td>\n",
       "    </tr>\n",
       "    <tr>\n",
       "      <th>1</th>\n",
       "      <td>DK2</td>\n",
       "      <td>Suplemen Seng</td>\n",
       "      <td>Nutritional</td>\n",
       "      <td>29620000</td>\n",
       "      <td>18</td>\n",
       "      <td>DKS100</td>\n",
       "      <td>DKPO1082</td>\n",
       "      <td>DKSO2026</td>\n",
       "    </tr>\n",
       "    <tr>\n",
       "      <th>2</th>\n",
       "      <td>DK3</td>\n",
       "      <td>Vitamin C</td>\n",
       "      <td>Nutritional</td>\n",
       "      <td>6630000</td>\n",
       "      <td>106</td>\n",
       "      <td>DKS126</td>\n",
       "      <td>DKPO1007</td>\n",
       "      <td>DKSO2052</td>\n",
       "    </tr>\n",
       "    <tr>\n",
       "      <th>3</th>\n",
       "      <td>DK4</td>\n",
       "      <td>Bubuk Protein</td>\n",
       "      <td>Nutritional</td>\n",
       "      <td>11800000</td>\n",
       "      <td>21</td>\n",
       "      <td>DKS150</td>\n",
       "      <td>DKPO1087</td>\n",
       "      <td>DKSO2055</td>\n",
       "    </tr>\n",
       "    <tr>\n",
       "      <th>4</th>\n",
       "      <td>DK5</td>\n",
       "      <td>Antivirus</td>\n",
       "      <td>Pharmaceutical</td>\n",
       "      <td>36340000</td>\n",
       "      <td>67</td>\n",
       "      <td>DKS120</td>\n",
       "      <td>DKPO1008</td>\n",
       "      <td>DKSO2007</td>\n",
       "    </tr>\n",
       "  </tbody>\n",
       "</table>\n",
       "</div>"
      ],
      "text/plain": [
       "  ID_Produk    Nama_Produk Kategori_Produk  Harga_Satuan  Stok_Produk  \\\n",
       "0       DK1      Stetoskop  Medical Device      40150000          471   \n",
       "1       DK2  Suplemen Seng     Nutritional      29620000           18   \n",
       "2       DK3      Vitamin C     Nutritional       6630000          106   \n",
       "3       DK4  Bubuk Protein     Nutritional      11800000           21   \n",
       "4       DK5      Antivirus  Pharmaceutical      36340000           67   \n",
       "\n",
       "  ID_Pemasok ID_Pesanan_Pembelian ID_Pesanan_Penjualan  \n",
       "0     DKS127             DKPO1012             DKSO2026  \n",
       "1     DKS100             DKPO1082             DKSO2026  \n",
       "2     DKS126             DKPO1007             DKSO2052  \n",
       "3     DKS150             DKPO1087             DKSO2055  \n",
       "4     DKS120             DKPO1008             DKSO2007  "
      ]
     },
     "execution_count": 8,
     "metadata": {},
     "output_type": "execute_result"
    }
   ],
   "source": [
    "#Read dataset Operasional_Dankos.csv\n",
    "table_operasional_d_df = pd.read_csv('https://raw.githubusercontent.com/adindaaasals/Data_Warehouse/main/Operasional_Dankos.csv')\n",
    "table_operasional_d_df.head()"
   ]
  },
  {
   "cell_type": "code",
   "execution_count": 9,
   "id": "1cee4b11",
   "metadata": {},
   "outputs": [
    {
     "data": {
      "text/html": [
       "<div>\n",
       "<style scoped>\n",
       "    .dataframe tbody tr th:only-of-type {\n",
       "        vertical-align: middle;\n",
       "    }\n",
       "\n",
       "    .dataframe tbody tr th {\n",
       "        vertical-align: top;\n",
       "    }\n",
       "\n",
       "    .dataframe thead th {\n",
       "        text-align: right;\n",
       "    }\n",
       "</style>\n",
       "<table border=\"1\" class=\"dataframe\">\n",
       "  <thead>\n",
       "    <tr style=\"text-align: right;\">\n",
       "      <th></th>\n",
       "      <th>product_id</th>\n",
       "      <th>product_name</th>\n",
       "      <th>product_category</th>\n",
       "      <th>product_unit_price</th>\n",
       "      <th>product_inventory</th>\n",
       "      <th>supplier_id</th>\n",
       "      <th>purchase_order_id</th>\n",
       "      <th>sales_order_id</th>\n",
       "    </tr>\n",
       "  </thead>\n",
       "  <tbody>\n",
       "    <tr>\n",
       "      <th>0</th>\n",
       "      <td>EN-P1001</td>\n",
       "      <td>Protective Mask Dankos</td>\n",
       "      <td>Produk Kebersihan</td>\n",
       "      <td>920000</td>\n",
       "      <td>383</td>\n",
       "      <td>EN-S1065</td>\n",
       "      <td>EN-PO10077</td>\n",
       "      <td>EN-SO20044</td>\n",
       "    </tr>\n",
       "    <tr>\n",
       "      <th>1</th>\n",
       "      <td>EN-P1002</td>\n",
       "      <td>Digital Thermometer Dankos</td>\n",
       "      <td>Peralatan Medis</td>\n",
       "      <td>40000</td>\n",
       "      <td>442</td>\n",
       "      <td>EN-S1062</td>\n",
       "      <td>EN-PO10080</td>\n",
       "      <td>EN-SO20060</td>\n",
       "    </tr>\n",
       "    <tr>\n",
       "      <th>2</th>\n",
       "      <td>EN-P1003</td>\n",
       "      <td>Hand Sanitizer Dankos</td>\n",
       "      <td>Produk Kebersihan</td>\n",
       "      <td>432000</td>\n",
       "      <td>88</td>\n",
       "      <td>EN-S1021</td>\n",
       "      <td>EN-PO10063</td>\n",
       "      <td>EN-SO20067</td>\n",
       "    </tr>\n",
       "    <tr>\n",
       "      <th>3</th>\n",
       "      <td>EN-P1004</td>\n",
       "      <td>Zinc Dankos</td>\n",
       "      <td>Suplemen Kesehatan</td>\n",
       "      <td>132000</td>\n",
       "      <td>99</td>\n",
       "      <td>EN-S1013</td>\n",
       "      <td>EN-PO10097</td>\n",
       "      <td>EN-SO20042</td>\n",
       "    </tr>\n",
       "    <tr>\n",
       "      <th>4</th>\n",
       "      <td>EN-P1005</td>\n",
       "      <td>Vitamin C Dankos</td>\n",
       "      <td>Suplemen Kesehatan</td>\n",
       "      <td>362000</td>\n",
       "      <td>424</td>\n",
       "      <td>EN-S1022</td>\n",
       "      <td>EN-PO10030</td>\n",
       "      <td>EN-SO20022</td>\n",
       "    </tr>\n",
       "  </tbody>\n",
       "</table>\n",
       "</div>"
      ],
      "text/plain": [
       "  product_id                product_name    product_category  \\\n",
       "0   EN-P1001      Protective Mask Dankos   Produk Kebersihan   \n",
       "1   EN-P1002  Digital Thermometer Dankos     Peralatan Medis   \n",
       "2   EN-P1003       Hand Sanitizer Dankos   Produk Kebersihan   \n",
       "3   EN-P1004                 Zinc Dankos  Suplemen Kesehatan   \n",
       "4   EN-P1005            Vitamin C Dankos  Suplemen Kesehatan   \n",
       "\n",
       "   product_unit_price  product_inventory supplier_id purchase_order_id  \\\n",
       "0              920000                383    EN-S1065        EN-PO10077   \n",
       "1               40000                442    EN-S1062        EN-PO10080   \n",
       "2              432000                 88    EN-S1021        EN-PO10063   \n",
       "3              132000                 99    EN-S1013        EN-PO10097   \n",
       "4              362000                424    EN-S1022        EN-PO10030   \n",
       "\n",
       "  sales_order_id  \n",
       "0     EN-SO20044  \n",
       "1     EN-SO20060  \n",
       "2     EN-SO20067  \n",
       "3     EN-SO20042  \n",
       "4     EN-SO20022  "
      ]
     },
     "execution_count": 9,
     "metadata": {},
     "output_type": "execute_result"
    }
   ],
   "source": [
    "#Read dataset Operasional_Enseva.csv\n",
    "table_operasional_e_df = pd.read_csv('https://raw.githubusercontent.com/adindaaasals/Data_Warehouse/main/Operasional_Enseva.csv')\n",
    "table_operasional_e_df.head()"
   ]
  },
  {
   "cell_type": "code",
   "execution_count": 10,
   "id": "212fa4b9",
   "metadata": {},
   "outputs": [
    {
     "data": {
      "text/html": [
       "<div>\n",
       "<style scoped>\n",
       "    .dataframe tbody tr th:only-of-type {\n",
       "        vertical-align: middle;\n",
       "    }\n",
       "\n",
       "    .dataframe tbody tr th {\n",
       "        vertical-align: top;\n",
       "    }\n",
       "\n",
       "    .dataframe thead th {\n",
       "        text-align: right;\n",
       "    }\n",
       "</style>\n",
       "<table border=\"1\" class=\"dataframe\">\n",
       "  <thead>\n",
       "    <tr style=\"text-align: right;\">\n",
       "      <th></th>\n",
       "      <th>customer_id</th>\n",
       "      <th>customer_name</th>\n",
       "      <th>gmail</th>\n",
       "    </tr>\n",
       "  </thead>\n",
       "  <tbody>\n",
       "    <tr>\n",
       "      <th>0</th>\n",
       "      <td>D-C354</td>\n",
       "      <td>Anggabaya Tarihoran</td>\n",
       "      <td>anggabaya.939@gmail.com</td>\n",
       "    </tr>\n",
       "    <tr>\n",
       "      <th>1</th>\n",
       "      <td>D-C627</td>\n",
       "      <td>Dr. Calista Napitupulu, S.IP</td>\n",
       "      <td>dr..754@gmail.com</td>\n",
       "    </tr>\n",
       "    <tr>\n",
       "      <th>2</th>\n",
       "      <td>D-C330</td>\n",
       "      <td>dr. Galih Winarno, S.T.</td>\n",
       "      <td>dr..213@gmail.com</td>\n",
       "    </tr>\n",
       "    <tr>\n",
       "      <th>3</th>\n",
       "      <td>D-C621</td>\n",
       "      <td>R. Amelia Suwarno, S.Psi</td>\n",
       "      <td>r..271@gmail.com</td>\n",
       "    </tr>\n",
       "    <tr>\n",
       "      <th>4</th>\n",
       "      <td>D-C400</td>\n",
       "      <td>Salwa Wibowo</td>\n",
       "      <td>salwa.664@gmail.com</td>\n",
       "    </tr>\n",
       "  </tbody>\n",
       "</table>\n",
       "</div>"
      ],
      "text/plain": [
       "  customer_id                 customer_name                    gmail\n",
       "0      D-C354           Anggabaya Tarihoran  anggabaya.939@gmail.com\n",
       "1      D-C627  Dr. Calista Napitupulu, S.IP        dr..754@gmail.com\n",
       "2      D-C330       dr. Galih Winarno, S.T.        dr..213@gmail.com\n",
       "3      D-C621      R. Amelia Suwarno, S.Psi         r..271@gmail.com\n",
       "4      D-C400                  Salwa Wibowo      salwa.664@gmail.com"
      ]
     },
     "execution_count": 10,
     "metadata": {},
     "output_type": "execute_result"
    }
   ],
   "source": [
    "#Read dataset Pelanggan_Dankos.csv\n",
    "table_pelanggan_d_df = pd.read_csv('https://raw.githubusercontent.com/adindaaasals/Data_Warehouse/main/Pelanggan_Dankos.csv')\n",
    "table_pelanggan_d_df.head()"
   ]
  },
  {
   "cell_type": "code",
   "execution_count": 11,
   "id": "521abb13",
   "metadata": {},
   "outputs": [
    {
     "data": {
      "text/html": [
       "<div>\n",
       "<style scoped>\n",
       "    .dataframe tbody tr th:only-of-type {\n",
       "        vertical-align: middle;\n",
       "    }\n",
       "\n",
       "    .dataframe tbody tr th {\n",
       "        vertical-align: top;\n",
       "    }\n",
       "\n",
       "    .dataframe thead th {\n",
       "        text-align: right;\n",
       "    }\n",
       "</style>\n",
       "<table border=\"1\" class=\"dataframe\">\n",
       "  <thead>\n",
       "    <tr style=\"text-align: right;\">\n",
       "      <th></th>\n",
       "      <th>customer_id</th>\n",
       "      <th>customer_name</th>\n",
       "      <th>gmail</th>\n",
       "    </tr>\n",
       "  </thead>\n",
       "  <tbody>\n",
       "    <tr>\n",
       "      <th>0</th>\n",
       "      <td>E-C1</td>\n",
       "      <td>Ulya Zulkarnain, S.Kom</td>\n",
       "      <td>Ulyaz08@gmail.com</td>\n",
       "    </tr>\n",
       "    <tr>\n",
       "      <th>1</th>\n",
       "      <td>E-C2</td>\n",
       "      <td>Titi Saptono</td>\n",
       "      <td>titi.140@gmail.com</td>\n",
       "    </tr>\n",
       "    <tr>\n",
       "      <th>2</th>\n",
       "      <td>E-C3</td>\n",
       "      <td>Kambali Adriansyah, S.I.Kom</td>\n",
       "      <td>kambali.350@gmail.com</td>\n",
       "    </tr>\n",
       "    <tr>\n",
       "      <th>3</th>\n",
       "      <td>E-C4</td>\n",
       "      <td>Septi Astuti</td>\n",
       "      <td>septi.749@gmail.com</td>\n",
       "    </tr>\n",
       "    <tr>\n",
       "      <th>4</th>\n",
       "      <td>E-C5</td>\n",
       "      <td>Lidya Sihotang</td>\n",
       "      <td>lidya.223@gmail.com</td>\n",
       "    </tr>\n",
       "  </tbody>\n",
       "</table>\n",
       "</div>"
      ],
      "text/plain": [
       "  customer_id                customer_name                  gmail\n",
       "0        E-C1       Ulya Zulkarnain, S.Kom      Ulyaz08@gmail.com\n",
       "1        E-C2                 Titi Saptono     titi.140@gmail.com\n",
       "2        E-C3  Kambali Adriansyah, S.I.Kom  kambali.350@gmail.com\n",
       "3        E-C4                 Septi Astuti    septi.749@gmail.com\n",
       "4        E-C5               Lidya Sihotang    lidya.223@gmail.com"
      ]
     },
     "execution_count": 11,
     "metadata": {},
     "output_type": "execute_result"
    }
   ],
   "source": [
    "#Read dataset Pelanggan_Enseva.csv\n",
    "table_pelanggan_e_df = pd.read_csv('https://raw.githubusercontent.com/adindaaasals/Data_Warehouse/main/Pelanggan_Enseva.csv')\n",
    "table_pelanggan_e_df.head()"
   ]
  },
  {
   "cell_type": "code",
   "execution_count": 12,
   "id": "5f250bca",
   "metadata": {},
   "outputs": [
    {
     "data": {
      "text/html": [
       "<div>\n",
       "<style scoped>\n",
       "    .dataframe tbody tr th:only-of-type {\n",
       "        vertical-align: middle;\n",
       "    }\n",
       "\n",
       "    .dataframe tbody tr th {\n",
       "        vertical-align: top;\n",
       "    }\n",
       "\n",
       "    .dataframe thead th {\n",
       "        text-align: right;\n",
       "    }\n",
       "</style>\n",
       "<table border=\"1\" class=\"dataframe\">\n",
       "  <thead>\n",
       "    <tr style=\"text-align: right;\">\n",
       "      <th></th>\n",
       "      <th>project_id</th>\n",
       "      <th>project_name</th>\n",
       "      <th>project_start_date</th>\n",
       "      <th>project_end_date</th>\n",
       "      <th>project_status</th>\n",
       "      <th>project_budget</th>\n",
       "      <th>researcher_id</th>\n",
       "      <th>publication_id</th>\n",
       "    </tr>\n",
       "  </thead>\n",
       "  <tbody>\n",
       "    <tr>\n",
       "      <th>0</th>\n",
       "      <td>DP1</td>\n",
       "      <td>Evaluasi Obat Anti-Inflamasi Baru</td>\n",
       "      <td>01-01-2020</td>\n",
       "      <td>04-06-2020</td>\n",
       "      <td>selesai</td>\n",
       "      <td>28902000</td>\n",
       "      <td>DR1027</td>\n",
       "      <td>PU2054</td>\n",
       "    </tr>\n",
       "    <tr>\n",
       "      <th>1</th>\n",
       "      <td>DP2</td>\n",
       "      <td>Optimalisasi Proses Produksi Obat Biotech</td>\n",
       "      <td>22-01-2020</td>\n",
       "      <td>20-01-2021</td>\n",
       "      <td>selesai</td>\n",
       "      <td>200484000</td>\n",
       "      <td>DR1018</td>\n",
       "      <td>PU2059</td>\n",
       "    </tr>\n",
       "    <tr>\n",
       "      <th>2</th>\n",
       "      <td>DP3</td>\n",
       "      <td>Penelitian Bioavailabilitas Substansi Aktif</td>\n",
       "      <td>12-02-2020</td>\n",
       "      <td>11-05-2020</td>\n",
       "      <td>sedang berlangsung</td>\n",
       "      <td>94283000</td>\n",
       "      <td>DR1086</td>\n",
       "      <td>PU2084</td>\n",
       "    </tr>\n",
       "    <tr>\n",
       "      <th>3</th>\n",
       "      <td>DP4</td>\n",
       "      <td>Pengembangan Sistem Pemantauan Kesehatan Digital</td>\n",
       "      <td>04-03-2020</td>\n",
       "      <td>04-10-2020</td>\n",
       "      <td>sedang berlangsung</td>\n",
       "      <td>155975000</td>\n",
       "      <td>DR1001</td>\n",
       "      <td>PU2098</td>\n",
       "    </tr>\n",
       "    <tr>\n",
       "      <th>4</th>\n",
       "      <td>DP5</td>\n",
       "      <td>Penelitian Ketahanan Antibiotik</td>\n",
       "      <td>25-03-2020</td>\n",
       "      <td>18-02-2021</td>\n",
       "      <td>sedang berlangsung</td>\n",
       "      <td>197903000</td>\n",
       "      <td>DR1034</td>\n",
       "      <td>PU2041</td>\n",
       "    </tr>\n",
       "  </tbody>\n",
       "</table>\n",
       "</div>"
      ],
      "text/plain": [
       "  project_id                                      project_name  \\\n",
       "0        DP1                 Evaluasi Obat Anti-Inflamasi Baru   \n",
       "1        DP2         Optimalisasi Proses Produksi Obat Biotech   \n",
       "2        DP3       Penelitian Bioavailabilitas Substansi Aktif   \n",
       "3        DP4  Pengembangan Sistem Pemantauan Kesehatan Digital   \n",
       "4        DP5                   Penelitian Ketahanan Antibiotik   \n",
       "\n",
       "  project_start_date project_end_date      project_status  project_budget  \\\n",
       "0         01-01-2020       04-06-2020             selesai        28902000   \n",
       "1         22-01-2020       20-01-2021             selesai       200484000   \n",
       "2         12-02-2020       11-05-2020  sedang berlangsung        94283000   \n",
       "3         04-03-2020       04-10-2020  sedang berlangsung       155975000   \n",
       "4         25-03-2020       18-02-2021  sedang berlangsung       197903000   \n",
       "\n",
       "  researcher_id publication_id  \n",
       "0        DR1027         PU2054  \n",
       "1        DR1018         PU2059  \n",
       "2        DR1086         PU2084  \n",
       "3        DR1001         PU2098  \n",
       "4        DR1034         PU2041  "
      ]
     },
     "execution_count": 12,
     "metadata": {},
     "output_type": "execute_result"
    }
   ],
   "source": [
    "#Read dataset Riset_Dankos.csv\n",
    "table_riset_d_df = pd.read_csv('https://raw.githubusercontent.com/adindaaasals/Data_Warehouse/main/Riset_Dankos.csv')\n",
    "table_riset_d_df.head()"
   ]
  },
  {
   "cell_type": "code",
   "execution_count": 15,
   "id": "c0889ca7",
   "metadata": {},
   "outputs": [
    {
     "data": {
      "text/html": [
       "<div>\n",
       "<style scoped>\n",
       "    .dataframe tbody tr th:only-of-type {\n",
       "        vertical-align: middle;\n",
       "    }\n",
       "\n",
       "    .dataframe tbody tr th {\n",
       "        vertical-align: top;\n",
       "    }\n",
       "\n",
       "    .dataframe thead th {\n",
       "        text-align: right;\n",
       "    }\n",
       "</style>\n",
       "<table border=\"1\" class=\"dataframe\">\n",
       "  <thead>\n",
       "    <tr style=\"text-align: right;\">\n",
       "      <th></th>\n",
       "      <th>project_id</th>\n",
       "      <th>project_name</th>\n",
       "      <th>project_start_date</th>\n",
       "      <th>project_end_date</th>\n",
       "      <th>project_status</th>\n",
       "      <th>project_budget</th>\n",
       "      <th>researcher_id</th>\n",
       "      <th>publication_id</th>\n",
       "    </tr>\n",
       "  </thead>\n",
       "  <tbody>\n",
       "    <tr>\n",
       "      <th>0</th>\n",
       "      <td>EMP1</td>\n",
       "      <td>Studi Perbandingan Efikasi Analgesik</td>\n",
       "      <td>01-01-2020</td>\n",
       "      <td>04-06-2020</td>\n",
       "      <td>selesai</td>\n",
       "      <td>102019000</td>\n",
       "      <td>EMF1023</td>\n",
       "      <td>EMPUB2012</td>\n",
       "    </tr>\n",
       "    <tr>\n",
       "      <th>1</th>\n",
       "      <td>EMP2</td>\n",
       "      <td>Pengembangan Formula Antihistamin</td>\n",
       "      <td>22-01-2020</td>\n",
       "      <td>20-01-2021</td>\n",
       "      <td>selesai</td>\n",
       "      <td>182223000</td>\n",
       "      <td>EMF1068</td>\n",
       "      <td>EMPUB2090</td>\n",
       "    </tr>\n",
       "    <tr>\n",
       "      <th>2</th>\n",
       "      <td>EMP3</td>\n",
       "      <td>Studi Bioekivalensi untuk Obat Generik</td>\n",
       "      <td>12-02-2020</td>\n",
       "      <td>11-05-2020</td>\n",
       "      <td>sedang berlangsung</td>\n",
       "      <td>80641000</td>\n",
       "      <td>EMF1020</td>\n",
       "      <td>EMPUB2075</td>\n",
       "    </tr>\n",
       "    <tr>\n",
       "      <th>3</th>\n",
       "      <td>EMP4</td>\n",
       "      <td>Penelitian Terapi Stem Cell</td>\n",
       "      <td>04-03-2020</td>\n",
       "      <td>04-10-2020</td>\n",
       "      <td>sedang berlangsung</td>\n",
       "      <td>55310000</td>\n",
       "      <td>EMF1013</td>\n",
       "      <td>EMPUB2025</td>\n",
       "    </tr>\n",
       "    <tr>\n",
       "      <th>4</th>\n",
       "      <td>EMP5</td>\n",
       "      <td>Evaluasi Efektivitas Vaksin Malaria</td>\n",
       "      <td>25-03-2020</td>\n",
       "      <td>18-02-2021</td>\n",
       "      <td>sedang berlangsung</td>\n",
       "      <td>296988000</td>\n",
       "      <td>EMF1056</td>\n",
       "      <td>EMPUB2055</td>\n",
       "    </tr>\n",
       "  </tbody>\n",
       "</table>\n",
       "</div>"
      ],
      "text/plain": [
       "  project_id                            project_name project_start_date  \\\n",
       "0       EMP1    Studi Perbandingan Efikasi Analgesik         01-01-2020   \n",
       "1       EMP2       Pengembangan Formula Antihistamin         22-01-2020   \n",
       "2       EMP3  Studi Bioekivalensi untuk Obat Generik         12-02-2020   \n",
       "3       EMP4             Penelitian Terapi Stem Cell         04-03-2020   \n",
       "4       EMP5     Evaluasi Efektivitas Vaksin Malaria         25-03-2020   \n",
       "\n",
       "  project_end_date      project_status  project_budget researcher_id  \\\n",
       "0       04-06-2020             selesai       102019000       EMF1023   \n",
       "1       20-01-2021             selesai       182223000       EMF1068   \n",
       "2       11-05-2020  sedang berlangsung        80641000       EMF1020   \n",
       "3       04-10-2020  sedang berlangsung        55310000       EMF1013   \n",
       "4       18-02-2021  sedang berlangsung       296988000       EMF1056   \n",
       "\n",
       "  publication_id  \n",
       "0      EMPUB2012  \n",
       "1      EMPUB2090  \n",
       "2      EMPUB2075  \n",
       "3      EMPUB2025  \n",
       "4      EMPUB2055  "
      ]
     },
     "execution_count": 15,
     "metadata": {},
     "output_type": "execute_result"
    }
   ],
   "source": [
    "#Read dataset Riset_Enseva.csv\n",
    "table_riset_e_df = pd.read_csv('https://raw.githubusercontent.com/adindaaasals/Data_Warehouse/main/Riset_Enseva.csv')\n",
    "table_riset_e_df.head()"
   ]
  },
  {
   "cell_type": "markdown",
   "id": "31cca4ae",
   "metadata": {},
   "source": [
    "## Cleaning Data"
   ]
  },
  {
   "cell_type": "markdown",
   "id": "679df741",
   "metadata": {},
   "source": [
    "#### Sebelumnya, kami sudah melakukan cleaning dengan menghapus data duplikasi pada google sheets. Selanjutnya kami akan melakukan pengecekan missing values dan mengubah nama kolom"
   ]
  },
  {
   "cell_type": "code",
   "execution_count": null,
   "id": "be85b7b4",
   "metadata": {},
   "outputs": [],
   "source": [
    "1. Missing Values"
   ]
  },
  {
   "cell_type": "code",
   "execution_count": 17,
   "id": "73232941",
   "metadata": {},
   "outputs": [
    {
     "name": "stdout",
     "output_type": "stream",
     "text": [
      "Jumlah data yang hilang pada tabel Karyawan Dankos:  4\n"
     ]
    }
   ],
   "source": [
    "#Check missing values in table_karyawan_d_df\n",
    "missing_values = table_karyawan_d_df.isnull().sum()\n",
    "\n",
    "#Print missing values in table_karyawan_d_df\n",
    "print(\"Jumlah data yang hilang pada tabel Karyawan Dankos: \", missing_values.sum())"
   ]
  },
  {
   "cell_type": "code",
   "execution_count": 18,
   "id": "8da945cc",
   "metadata": {},
   "outputs": [
    {
     "name": "stdout",
     "output_type": "stream",
     "text": [
      "Data hilang berhasil dihapus!\n"
     ]
    }
   ],
   "source": [
    "#Drop missing values\n",
    "table_karyawan_d_df = table_karyawan_d_df.dropna()\n",
    "\n",
    "#Success message\n",
    "print(\"Data hilang berhasil dihapus!\")"
   ]
  },
  {
   "cell_type": "code",
   "execution_count": 19,
   "id": "93399906",
   "metadata": {},
   "outputs": [
    {
     "name": "stdout",
     "output_type": "stream",
     "text": [
      "Jumlah data yang hilang yang tersisa:  0\n"
     ]
    }
   ],
   "source": [
    "#Print sum of missing values\n",
    "print(\"Jumlah data yang hilang yang tersisa: \", table_karyawan_d_df.isnull().sum().sum())"
   ]
  },
  {
   "cell_type": "code",
   "execution_count": 20,
   "id": "0894ea96",
   "metadata": {},
   "outputs": [
    {
     "name": "stdout",
     "output_type": "stream",
     "text": [
      "Jumlah data yang hilang pada tabel Karyawan Enseval:  6\n"
     ]
    }
   ],
   "source": [
    "#Check missing values in table_karyawan_e_df\n",
    "missing_values = table_karyawan_e_df.isnull().sum()\n",
    "\n",
    "#Print missing values in table_karyawan_e_df\n",
    "print(\"Jumlah data yang hilang pada tabel Karyawan Enseval: \", missing_values.sum())"
   ]
  },
  {
   "cell_type": "code",
   "execution_count": 21,
   "id": "0749e03c",
   "metadata": {},
   "outputs": [
    {
     "name": "stdout",
     "output_type": "stream",
     "text": [
      "Data hilang berhasil dihapus!\n"
     ]
    }
   ],
   "source": [
    "#Drop missing values\n",
    "table_karyawan_e_df = table_karyawan_e_df.dropna()\n",
    "\n",
    "#Success message\n",
    "print(\"Data hilang berhasil dihapus!\")"
   ]
  },
  {
   "cell_type": "code",
   "execution_count": 22,
   "id": "40579044",
   "metadata": {},
   "outputs": [
    {
     "name": "stdout",
     "output_type": "stream",
     "text": [
      "Jumlah data yang hilang yang tersisa:  0\n"
     ]
    }
   ],
   "source": [
    "#Print sum of missing values\n",
    "print(\"Jumlah data yang hilang yang tersisa: \", table_karyawan_e_df.isnull().sum().sum())"
   ]
  },
  {
   "cell_type": "markdown",
   "id": "9627fbaf",
   "metadata": {},
   "source": [
    "2. Mengubah nama kolom pada tabel Operasional Dankos"
   ]
  },
  {
   "cell_type": "code",
   "execution_count": 37,
   "id": "20a250f5",
   "metadata": {},
   "outputs": [
    {
     "name": "stdout",
     "output_type": "stream",
     "text": [
      "Nama kolom berhasil diubah!\n"
     ]
    }
   ],
   "source": [
    "#Rename column from Bahasa to English\n",
    "table_operasional_d_df = table_operasional_d_df.rename(columns={'ID_Produk': 'product_id'})\n",
    "table_operasional_d_df = table_operasional_d_df.rename(columns={'Nama_Produk': 'product_name'})\n",
    "table_operasional_d_df = table_operasional_d_df.rename(columns={'Kategori_Produk': 'product_category'})\n",
    "table_operasional_d_df = table_operasional_d_df.rename(columns={'Harga_Satuan': 'product_unit_price'})\n",
    "table_operasional_d_df = table_operasional_d_df.rename(columns={'Stok_Produk': 'product_inventory'})\n",
    "table_operasional_d_df = table_operasional_d_df.rename(columns={'ID_Pemasok': 'supplier_id'})\n",
    "table_operasional_d_df = table_operasional_d_df.rename(columns={'ID_Pesanan_Pembelian': 'purchase_order_id'})\n",
    "table_operasional_d_df = table_operasional_d_df.rename(columns={'ID_Pesanan_Penjualan': 'sales_order_id'})\n",
    "\n",
    "#Success message\n",
    "print(\"Nama kolom berhasil diubah!\")"
   ]
  },
  {
   "cell_type": "markdown",
   "id": "3a5d66c3",
   "metadata": {},
   "source": [
    "## Integrasi Data"
   ]
  },
  {
   "cell_type": "markdown",
   "id": "ce7b5137",
   "metadata": {},
   "source": [
    "Menggabungkan Dataset untuk Tabel Karyawan, Operasional, Pelanggan, dan Riset"
   ]
  },
  {
   "cell_type": "code",
   "execution_count": 39,
   "id": "b90b6839",
   "metadata": {},
   "outputs": [
    {
     "name": "stdout",
     "output_type": "stream",
     "text": [
      "Data berhasil digabungkan!\n"
     ]
    }
   ],
   "source": [
    "#Merge table_karyawan_d_df and table_karyawan_e_df\n",
    "karyawan_df = pd.concat([table_karyawan_d_df, table_karyawan_e_df])\n",
    "\n",
    "#Merge table_operasional_d_df and table_operasional_e_df\n",
    "operasional_df = pd.concat([table_operasional_d_df, table_operasional_e_df])\n",
    "\n",
    "#Merge table_pelanggan_d_df and table_pelanggan_e_df\n",
    "pelanggan_df = pd.concat([table_pelanggan_d_df, table_pelanggan_e_df])\n",
    "\n",
    "#Merge table_riset_d_df and table_riset_e_df\n",
    "riset_df = pd.concat([table_riset_d_df, table_riset_e_df])\n",
    "\n",
    "#Success message\n",
    "print(\"Data berhasil digabungkan!\")"
   ]
  },
  {
   "cell_type": "code",
   "execution_count": 24,
   "id": "d3f784e3",
   "metadata": {},
   "outputs": [
    {
     "name": "stdout",
     "output_type": "stream",
     "text": [
      "    id_karyawan                nama_karyawan div_karyawan\n",
      "0        DK-199               Tari Puspasari      Finance\n",
      "1        DK-148                 Saka Wastuti        Sales\n",
      "2         DK-94  Ir. Radit Megantara, M.Farm           HR\n",
      "3         DK-56                  Ade Hutapea           HR\n",
      "4          DK-4        Utama Pranowo, M.Farm           HR\n",
      "..          ...                          ...          ...\n",
      "103       EK-11                Elvina Irawan        Sales\n",
      "104        EK-7           Edi Farida, M.Kom.   Operations\n",
      "105       EK-84               Martana Namaga           IT\n",
      "106       EK-31               Rachel Winarno   Operations\n",
      "107      EK-117       Sakura Manullang, M.Pd    Marketing\n",
      "\n",
      "[184 rows x 3 columns]\n"
     ]
    }
   ],
   "source": [
    "#Show merged data table_karyawan_d_df and table_karyawan_e_df\n",
    "print(karyawan_df)"
   ]
  },
  {
   "cell_type": "code",
   "execution_count": 40,
   "id": "42202994",
   "metadata": {},
   "outputs": [
    {
     "name": "stdout",
     "output_type": "stream",
     "text": [
      "   product_id                  product_name    product_category  \\\n",
      "0         DK1                     Stetoskop      Medical Device   \n",
      "1         DK2                 Suplemen Seng         Nutritional   \n",
      "2         DK3                     Vitamin C         Nutritional   \n",
      "3         DK4                 Bubuk Protein         Nutritional   \n",
      "4         DK5                     Antivirus      Pharmaceutical   \n",
      "..        ...                           ...                 ...   \n",
      "75   EN-P1076  Herbal Immune Booster Dankos  Suplemen Kesehatan   \n",
      "76   EN-P1077     Portable Nebulizer Dankos     Peralatan Medis   \n",
      "77   EN-P1078        Antiseptic Soap Dankos   Produk Kebersihan   \n",
      "78   EN-P1079              Vitamin C Dankos  Suplemen Kesehatan   \n",
      "79   EN-P1080        Antiseptic Soap Dankos   Produk Kebersihan   \n",
      "\n",
      "    product_unit_price  product_inventory supplier_id purchase_order_id  \\\n",
      "0             40150000                471      DKS127          DKPO1012   \n",
      "1             29620000                 18      DKS100          DKPO1082   \n",
      "2              6630000                106      DKS126          DKPO1007   \n",
      "3             11800000                 21      DKS150          DKPO1087   \n",
      "4             36340000                 67      DKS120          DKPO1008   \n",
      "..                 ...                ...         ...               ...   \n",
      "75              889000                494    EN-S1038        EN-PO10064   \n",
      "76              987000                362    EN-S1007        EN-PO10044   \n",
      "77              177000                187    EN-S1021        EN-PO10042   \n",
      "78              437000                 96    EN-S1005        EN-PO10034   \n",
      "79              848000                494    EN-S1015        EN-PO10078   \n",
      "\n",
      "   sales_order_id  \n",
      "0        DKSO2026  \n",
      "1        DKSO2026  \n",
      "2        DKSO2052  \n",
      "3        DKSO2055  \n",
      "4        DKSO2007  \n",
      "..            ...  \n",
      "75     EN-SO20064  \n",
      "76     EN-SO20081  \n",
      "77     EN-SO20081  \n",
      "78     EN-SO20032  \n",
      "79     EN-SO20093  \n",
      "\n",
      "[200 rows x 8 columns]\n"
     ]
    }
   ],
   "source": [
    "#Show merged data table_operasional_d_df and table_operasional_e_df\n",
    "print(operasional_df)"
   ]
  },
  {
   "cell_type": "code",
   "execution_count": 32,
   "id": "10e6a7b0",
   "metadata": {},
   "outputs": [
    {
     "name": "stdout",
     "output_type": "stream",
     "text": [
      "     customer_id                 customer_name                    gmail\n",
      "0         D-C354           Anggabaya Tarihoran  anggabaya.939@gmail.com\n",
      "1         D-C627  Dr. Calista Napitupulu, S.IP        dr..754@gmail.com\n",
      "2         D-C330       dr. Galih Winarno, S.T.        dr..213@gmail.com\n",
      "3         D-C621      R. Amelia Suwarno, S.Psi         r..271@gmail.com\n",
      "4         D-C400                  Salwa Wibowo      salwa.664@gmail.com\n",
      "...          ...                           ...                      ...\n",
      "1333     E-C1327            Daryani Zulkarnain       puti.183@gmail.com\n",
      "1334     E-C1328              Tgk. Usyi Habibi  harimurti.840@gmail.com\n",
      "1335     E-C1329             Chandra Purnawati    daliman.434@gmail.com\n",
      "1336     E-C1330           Paramita Mangunsong       dian.359@gmail.com\n",
      "1337     E-C1331                Tasnim Wastuti    prabowo.267@gmail.com\n",
      "\n",
      "[3498 rows x 3 columns]\n"
     ]
    }
   ],
   "source": [
    "#Show merged data table_pelanggan_d_df and table_pelanggan_e_df\n",
    "print(pelanggan_df)"
   ]
  },
  {
   "cell_type": "code",
   "execution_count": 33,
   "id": "7036e21c",
   "metadata": {},
   "outputs": [
    {
     "name": "stdout",
     "output_type": "stream",
     "text": [
      "   project_id                                      project_name  \\\n",
      "0         DP1                 Evaluasi Obat Anti-Inflamasi Baru   \n",
      "1         DP2         Optimalisasi Proses Produksi Obat Biotech   \n",
      "2         DP3       Penelitian Bioavailabilitas Substansi Aktif   \n",
      "3         DP4  Pengembangan Sistem Pemantauan Kesehatan Digital   \n",
      "4         DP5                   Penelitian Ketahanan Antibiotik   \n",
      "..        ...                                               ...   \n",
      "65      EMP66                       Penelitian Terapi Stem Cell   \n",
      "66      EMP67                       Penelitian Terapi Stem Cell   \n",
      "67      EMP68                        Penelitian Obat Anti-Aging   \n",
      "68      EMP69       Evaluasi Terapi Komplementer untuk Diabetes   \n",
      "69      EMP70                        Studi Stabilitas Obat Baru   \n",
      "\n",
      "   project_start_date project_end_date      project_status  project_budget  \\\n",
      "0          01-01-2020       04-06-2020             selesai        28902000   \n",
      "1          22-01-2020       20-01-2021             selesai       200484000   \n",
      "2          12-02-2020       11-05-2020  sedang berlangsung        94283000   \n",
      "3          04-03-2020       04-10-2020  sedang berlangsung       155975000   \n",
      "4          25-03-2020       18-02-2021  sedang berlangsung       197903000   \n",
      "..                ...              ...                 ...             ...   \n",
      "65         07-10-2023       01-07-2024  sedang berlangsung       159441000   \n",
      "66         28-10-2023       01-10-2024  sedang berlangsung       153879000   \n",
      "67         18-11-2023       26-08-2024             selesai       259077000   \n",
      "68         09-12-2023       08-01-2024             selesai       254791000   \n",
      "69         31-12-2023       20-06-2024             selesai       205258000   \n",
      "\n",
      "   researcher_id publication_id  \n",
      "0         DR1027         PU2054  \n",
      "1         DR1018         PU2059  \n",
      "2         DR1086         PU2084  \n",
      "3         DR1001         PU2098  \n",
      "4         DR1034         PU2041  \n",
      "..           ...            ...  \n",
      "65       EMF1046      EMPUB2062  \n",
      "66       EMF1023      EMPUB2089  \n",
      "67       EMF1065      EMPUB2083  \n",
      "68       EMF1000      EMPUB2016  \n",
      "69       EMF1032      EMPUB2028  \n",
      "\n",
      "[140 rows x 8 columns]\n"
     ]
    }
   ],
   "source": [
    "#Show merged data table_riset_d_df and table_riset_e_df\n",
    "print(riset_df)"
   ]
  },
  {
   "cell_type": "markdown",
   "id": "bb597688",
   "metadata": {},
   "source": [
    "## Transformasi Data"
   ]
  },
  {
   "cell_type": "markdown",
   "id": "a9671e6e",
   "metadata": {},
   "source": [
    "1. Mencari Tahu Biaya Operasional Terbesar dan Terkecil"
   ]
  },
  {
   "cell_type": "code",
   "execution_count": 49,
   "id": "a9f99cc1",
   "metadata": {},
   "outputs": [
    {
     "name": "stdout",
     "output_type": "stream",
     "text": [
      "Biaya Operasional Terbesar:  49930000\n",
      "Biaya Operasional Terkecil:  34000\n"
     ]
    }
   ],
   "source": [
    "#Find the largest Operational Cost\n",
    "largest_cost = operasional_df['product_unit_price'].max()\n",
    "\n",
    "#Print the largest transaction\n",
    "print(\"Biaya Operasional Terbesar: \", largest_cost)\n",
    "\n",
    "#Find the Smallest Operational Cost\n",
    "smallest_cost = operasional_df['product_unit_price'].min()\n",
    "\n",
    "#Print the largest transaction\n",
    "print(\"Biaya Operasional Terkecil: \", smallest_cost)"
   ]
  },
  {
   "cell_type": "markdown",
   "id": "9b500cd0",
   "metadata": {},
   "source": [
    "2. Mencari Tahu Budget Project Terbesar dan Terkecil"
   ]
  },
  {
   "cell_type": "code",
   "execution_count": 54,
   "id": "dfd3f2e4",
   "metadata": {},
   "outputs": [
    {
     "name": "stdout",
     "output_type": "stream",
     "text": [
      "Budget Project Terbesar:  49930000\n",
      "Budget Project Terkecil:  3059000\n"
     ]
    }
   ],
   "source": [
    "#Find the largest Project Cost\n",
    "largest_budget = riset_df['project_budget'].max()\n",
    "\n",
    "#Print the largest transaction\n",
    "print(\"Budget Project Terbesar: \", largest_cost)\n",
    "\n",
    "#Find the Smallest Operational Cost\n",
    "smallest_budget = riset_df['project_budget'].min()\n",
    "\n",
    "#Print the largest transaction\n",
    "print(\"Budget Project Terkecil: \", smallest_budget)"
   ]
  },
  {
   "cell_type": "markdown",
   "id": "e4c05512",
   "metadata": {},
   "source": [
    "3. Mencari Tahu Project dengan Durasi Paling Lama"
   ]
  },
  {
   "cell_type": "code",
   "execution_count": 55,
   "id": "d94da0b5",
   "metadata": {},
   "outputs": [
    {
     "name": "stdout",
     "output_type": "stream",
     "text": [
      "Project with the Longest Duration:\n",
      "    project_id                         project_name project_start_date  \\\n",
      "13       DP14       Optimasi Formula Dermatologi 3         2020-02-10   \n",
      "13      EMP14  Evaluasi Efektivitas Vaksin Malaria         2020-02-10   \n",
      "\n",
      "   project_end_date project_status  project_budget researcher_id  \\\n",
      "13       2021-09-28        selesai        86102000        DR1011   \n",
      "13       2021-09-28        selesai        39224000       EMF1069   \n",
      "\n",
      "   publication_id duration  \n",
      "13         PU2094 596 days  \n",
      "13      EMPUB2098 596 days  \n"
     ]
    }
   ],
   "source": [
    "#Convert start and end dates to datetime objects\n",
    "riset_df['project_start_date'] = pd.to_datetime(riset_df['project_start_date'])\n",
    "riset_df['project_end_date'] = pd.to_datetime(riset_df['project_end_date'])\n",
    "\n",
    "#Calculate the duration of each project\n",
    "riset_df['duration'] = riset_df['project_end_date'] - riset_df['project_start_date']\n",
    "\n",
    "#Locate the project with the maximum duration\n",
    "longest_project = riset_df.loc[riset_df['duration'].idxmax()]\n",
    "\n",
    "#Print the longest duration\n",
    "print(\"Project dengan Durasi Paling Lama:\\n\", longest_project)"
   ]
  }
 ],
 "metadata": {
  "kernelspec": {
   "display_name": "Python 3 (ipykernel)",
   "language": "python",
   "name": "python3"
  },
  "language_info": {
   "codemirror_mode": {
    "name": "ipython",
    "version": 3
   },
   "file_extension": ".py",
   "mimetype": "text/x-python",
   "name": "python",
   "nbconvert_exporter": "python",
   "pygments_lexer": "ipython3",
   "version": "3.9.12"
  }
 },
 "nbformat": 4,
 "nbformat_minor": 5
}
